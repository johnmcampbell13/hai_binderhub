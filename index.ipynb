{
 "cells": [
  {
   "cell_type": "markdown",
   "metadata": {},
   "source": [
    "# HAI - Review Demographic Data\n",
    "\n",
    "In a previous notebook titled \"HAI - Prepare Data For Analysis\", we generated a file named \"hai_result_sql.txt\", that we will now use to explore the demographic information associated with HAI results."
   ]
  },
  {
   "cell_type": "markdown",
   "metadata": {},
   "source": [
    "# Python Environment"
   ]
  },
  {
   "cell_type": "code",
   "execution_count": 1,
   "metadata": {},
   "outputs": [],
   "source": [
    "import os\n",
    "import pandas as pd\n",
    "\n",
    "from IPython.display import display\n",
    "import ipywidgets as widgets\n",
    "\n",
    "import altair as alt\n",
    "#Uncomment line below in Jupyter Notebook\n",
    "alt.renderers.enable('notebook')\n",
    "# Configure Altair to use larger data sets.\n",
    "alt.data_transformers.enable('default', max_rows=None);"
   ]
  },
  {
   "cell_type": "markdown",
   "metadata": {},
   "source": [
    "# Load the HAI Results Data"
   ]
  },
  {
   "cell_type": "code",
   "execution_count": 2,
   "metadata": {},
   "outputs": [
    {
     "name": "stdout",
     "output_type": "stream",
     "text": [
      "(22719, 18)\n"
     ]
    },
    {
     "data": {
      "text/html": [
       "<div>\n",
       "<style scoped>\n",
       "    .dataframe tbody tr th:only-of-type {\n",
       "        vertical-align: middle;\n",
       "    }\n",
       "\n",
       "    .dataframe tbody tr th {\n",
       "        vertical-align: top;\n",
       "    }\n",
       "\n",
       "    .dataframe thead th {\n",
       "        text-align: right;\n",
       "    }\n",
       "</style>\n",
       "<table border=\"1\" class=\"dataframe\">\n",
       "  <thead>\n",
       "    <tr style=\"text-align: right;\">\n",
       "      <th></th>\n",
       "      <th>study_accession</th>\n",
       "      <th>arm_accession</th>\n",
       "      <th>subject_accession</th>\n",
       "      <th>experiment_accession</th>\n",
       "      <th>study_time_collected</th>\n",
       "      <th>study_time_collected_unit</th>\n",
       "      <th>unit_preferred</th>\n",
       "      <th>unit_reported</th>\n",
       "      <th>value_preferred</th>\n",
       "      <th>value_reported</th>\n",
       "      <th>virus_strain_preferred</th>\n",
       "      <th>virus_strain_reported</th>\n",
       "      <th>race</th>\n",
       "      <th>gender</th>\n",
       "      <th>ethnicity</th>\n",
       "      <th>species</th>\n",
       "      <th>min_subject_age</th>\n",
       "      <th>max_subject_age</th>\n",
       "    </tr>\n",
       "  </thead>\n",
       "  <tbody>\n",
       "    <tr>\n",
       "      <td>0</td>\n",
       "      <td>SDY1119</td>\n",
       "      <td>ARM3950</td>\n",
       "      <td>SUB179652</td>\n",
       "      <td>EXP15082</td>\n",
       "      <td>0.0</td>\n",
       "      <td>Days</td>\n",
       "      <td>Antibody titer</td>\n",
       "      <td>Antibody titer</td>\n",
       "      <td>160.0</td>\n",
       "      <td>160</td>\n",
       "      <td>NaN</td>\n",
       "      <td>A/Victoria</td>\n",
       "      <td>Not Specified</td>\n",
       "      <td>Female</td>\n",
       "      <td>Not Specified</td>\n",
       "      <td>Homo sapiens</td>\n",
       "      <td>80.0</td>\n",
       "      <td>80.0</td>\n",
       "    </tr>\n",
       "    <tr>\n",
       "      <td>1</td>\n",
       "      <td>SDY1119</td>\n",
       "      <td>ARM3950</td>\n",
       "      <td>SUB179652</td>\n",
       "      <td>EXP15082</td>\n",
       "      <td>30.0</td>\n",
       "      <td>Days</td>\n",
       "      <td>Antibody titer</td>\n",
       "      <td>Antibody titer</td>\n",
       "      <td>320.0</td>\n",
       "      <td>320</td>\n",
       "      <td>NaN</td>\n",
       "      <td>A/Victoria</td>\n",
       "      <td>Not Specified</td>\n",
       "      <td>Female</td>\n",
       "      <td>Not Specified</td>\n",
       "      <td>Homo sapiens</td>\n",
       "      <td>80.0</td>\n",
       "      <td>80.0</td>\n",
       "    </tr>\n",
       "    <tr>\n",
       "      <td>2</td>\n",
       "      <td>SDY1119</td>\n",
       "      <td>ARM3950</td>\n",
       "      <td>SUB179652</td>\n",
       "      <td>EXP15082</td>\n",
       "      <td>0.0</td>\n",
       "      <td>Days</td>\n",
       "      <td>Antibody titer</td>\n",
       "      <td>Antibody titer</td>\n",
       "      <td>320.0</td>\n",
       "      <td>320</td>\n",
       "      <td>NaN</td>\n",
       "      <td>A/California</td>\n",
       "      <td>Not Specified</td>\n",
       "      <td>Female</td>\n",
       "      <td>Not Specified</td>\n",
       "      <td>Homo sapiens</td>\n",
       "      <td>80.0</td>\n",
       "      <td>80.0</td>\n",
       "    </tr>\n",
       "    <tr>\n",
       "      <td>3</td>\n",
       "      <td>SDY1119</td>\n",
       "      <td>ARM3950</td>\n",
       "      <td>SUB179652</td>\n",
       "      <td>EXP15082</td>\n",
       "      <td>30.0</td>\n",
       "      <td>Days</td>\n",
       "      <td>Antibody titer</td>\n",
       "      <td>Antibody titer</td>\n",
       "      <td>320.0</td>\n",
       "      <td>320</td>\n",
       "      <td>NaN</td>\n",
       "      <td>A/Victoria</td>\n",
       "      <td>Not Specified</td>\n",
       "      <td>Female</td>\n",
       "      <td>Not Specified</td>\n",
       "      <td>Homo sapiens</td>\n",
       "      <td>80.0</td>\n",
       "      <td>80.0</td>\n",
       "    </tr>\n",
       "    <tr>\n",
       "      <td>4</td>\n",
       "      <td>SDY1119</td>\n",
       "      <td>ARM3950</td>\n",
       "      <td>SUB179652</td>\n",
       "      <td>EXP15082</td>\n",
       "      <td>0.0</td>\n",
       "      <td>Days</td>\n",
       "      <td>Antibody titer</td>\n",
       "      <td>Antibody titer</td>\n",
       "      <td>320.0</td>\n",
       "      <td>320</td>\n",
       "      <td>NaN</td>\n",
       "      <td>A/California</td>\n",
       "      <td>Not Specified</td>\n",
       "      <td>Female</td>\n",
       "      <td>Not Specified</td>\n",
       "      <td>Homo sapiens</td>\n",
       "      <td>80.0</td>\n",
       "      <td>80.0</td>\n",
       "    </tr>\n",
       "  </tbody>\n",
       "</table>\n",
       "</div>"
      ],
      "text/plain": [
       "  study_accession arm_accession subject_accession experiment_accession  \\\n",
       "0         SDY1119       ARM3950         SUB179652             EXP15082   \n",
       "1         SDY1119       ARM3950         SUB179652             EXP15082   \n",
       "2         SDY1119       ARM3950         SUB179652             EXP15082   \n",
       "3         SDY1119       ARM3950         SUB179652             EXP15082   \n",
       "4         SDY1119       ARM3950         SUB179652             EXP15082   \n",
       "\n",
       "   study_time_collected study_time_collected_unit  unit_preferred  \\\n",
       "0                   0.0                      Days  Antibody titer   \n",
       "1                  30.0                      Days  Antibody titer   \n",
       "2                   0.0                      Days  Antibody titer   \n",
       "3                  30.0                      Days  Antibody titer   \n",
       "4                   0.0                      Days  Antibody titer   \n",
       "\n",
       "    unit_reported  value_preferred value_reported virus_strain_preferred  \\\n",
       "0  Antibody titer            160.0            160                    NaN   \n",
       "1  Antibody titer            320.0            320                    NaN   \n",
       "2  Antibody titer            320.0            320                    NaN   \n",
       "3  Antibody titer            320.0            320                    NaN   \n",
       "4  Antibody titer            320.0            320                    NaN   \n",
       "\n",
       "  virus_strain_reported           race  gender      ethnicity       species  \\\n",
       "0            A/Victoria  Not Specified  Female  Not Specified  Homo sapiens   \n",
       "1            A/Victoria  Not Specified  Female  Not Specified  Homo sapiens   \n",
       "2          A/California  Not Specified  Female  Not Specified  Homo sapiens   \n",
       "3            A/Victoria  Not Specified  Female  Not Specified  Homo sapiens   \n",
       "4          A/California  Not Specified  Female  Not Specified  Homo sapiens   \n",
       "\n",
       "   min_subject_age  max_subject_age  \n",
       "0             80.0             80.0  \n",
       "1             80.0             80.0  \n",
       "2             80.0             80.0  \n",
       "3             80.0             80.0  \n",
       "4             80.0             80.0  "
      ]
     },
     "execution_count": 2,
     "metadata": {},
     "output_type": "execute_result"
    }
   ],
   "source": [
    "hai_results_file = \"hai_results_sql.txt\"\n",
    "hai_results = pd.read_table(hai_results_file, sep=\"\\t\")\n",
    "print(hai_results.shape)\n",
    "hai_results.head(5)"
   ]
  },
  {
   "cell_type": "markdown",
   "metadata": {},
   "source": [
    "# Create Subject Demographics DataFrame"
   ]
  },
  {
   "cell_type": "code",
   "execution_count": 3,
   "metadata": {},
   "outputs": [
    {
     "name": "stdout",
     "output_type": "stream",
     "text": [
      "(2886, 7)\n"
     ]
    },
    {
     "data": {
      "text/html": [
       "<div>\n",
       "<style scoped>\n",
       "    .dataframe tbody tr th:only-of-type {\n",
       "        vertical-align: middle;\n",
       "    }\n",
       "\n",
       "    .dataframe tbody tr th {\n",
       "        vertical-align: top;\n",
       "    }\n",
       "\n",
       "    .dataframe thead th {\n",
       "        text-align: right;\n",
       "    }\n",
       "</style>\n",
       "<table border=\"1\" class=\"dataframe\">\n",
       "  <thead>\n",
       "    <tr style=\"text-align: right;\">\n",
       "      <th></th>\n",
       "      <th>study_accession</th>\n",
       "      <th>subject_accession</th>\n",
       "      <th>race</th>\n",
       "      <th>gender</th>\n",
       "      <th>ethnicity</th>\n",
       "      <th>species</th>\n",
       "      <th>min_subject_age</th>\n",
       "    </tr>\n",
       "  </thead>\n",
       "  <tbody>\n",
       "    <tr>\n",
       "      <td>0</td>\n",
       "      <td>SDY1119</td>\n",
       "      <td>SUB179652</td>\n",
       "      <td>Not Specified</td>\n",
       "      <td>Female</td>\n",
       "      <td>Not Specified</td>\n",
       "      <td>Homo sapiens</td>\n",
       "      <td>80.0</td>\n",
       "    </tr>\n",
       "    <tr>\n",
       "      <td>12</td>\n",
       "      <td>SDY1119</td>\n",
       "      <td>SUB179655</td>\n",
       "      <td>Not Specified</td>\n",
       "      <td>Female</td>\n",
       "      <td>Not Specified</td>\n",
       "      <td>Homo sapiens</td>\n",
       "      <td>66.0</td>\n",
       "    </tr>\n",
       "    <tr>\n",
       "      <td>24</td>\n",
       "      <td>SDY1119</td>\n",
       "      <td>SUB179657</td>\n",
       "      <td>Not Specified</td>\n",
       "      <td>Male</td>\n",
       "      <td>Not Specified</td>\n",
       "      <td>Homo sapiens</td>\n",
       "      <td>75.0</td>\n",
       "    </tr>\n",
       "    <tr>\n",
       "      <td>36</td>\n",
       "      <td>SDY1119</td>\n",
       "      <td>SUB179659</td>\n",
       "      <td>Not Specified</td>\n",
       "      <td>Male</td>\n",
       "      <td>Not Specified</td>\n",
       "      <td>Homo sapiens</td>\n",
       "      <td>70.0</td>\n",
       "    </tr>\n",
       "    <tr>\n",
       "      <td>48</td>\n",
       "      <td>SDY1119</td>\n",
       "      <td>SUB179662</td>\n",
       "      <td>Not Specified</td>\n",
       "      <td>Male</td>\n",
       "      <td>Not Specified</td>\n",
       "      <td>Homo sapiens</td>\n",
       "      <td>65.0</td>\n",
       "    </tr>\n",
       "  </tbody>\n",
       "</table>\n",
       "</div>"
      ],
      "text/plain": [
       "   study_accession subject_accession           race  gender      ethnicity  \\\n",
       "0          SDY1119         SUB179652  Not Specified  Female  Not Specified   \n",
       "12         SDY1119         SUB179655  Not Specified  Female  Not Specified   \n",
       "24         SDY1119         SUB179657  Not Specified    Male  Not Specified   \n",
       "36         SDY1119         SUB179659  Not Specified    Male  Not Specified   \n",
       "48         SDY1119         SUB179662  Not Specified    Male  Not Specified   \n",
       "\n",
       "         species  min_subject_age  \n",
       "0   Homo sapiens             80.0  \n",
       "12  Homo sapiens             66.0  \n",
       "24  Homo sapiens             75.0  \n",
       "36  Homo sapiens             70.0  \n",
       "48  Homo sapiens             65.0  "
      ]
     },
     "execution_count": 3,
     "metadata": {},
     "output_type": "execute_result"
    }
   ],
   "source": [
    "hai_subject_demographics = hai_results[['study_accession', 'subject_accession', 'race', 'gender','ethnicity','species','min_subject_age']].copy().drop_duplicates()\n",
    "print(hai_subject_demographics.shape)\n",
    "hai_subject_demographics.head(5)"
   ]
  },
  {
   "cell_type": "markdown",
   "metadata": {},
   "source": [
    "# Create Subject Demographics DataFrame"
   ]
  },
  {
   "cell_type": "markdown",
   "metadata": {},
   "source": [
    "## Generate Data for Dropdown and MultiSelect Widgets"
   ]
  },
  {
   "cell_type": "code",
   "execution_count": 4,
   "metadata": {},
   "outputs": [],
   "source": [
    "def sortSDY(s):\n",
    "    return int(s.replace(\"SDY\", \"\"))\n",
    "\n",
    "studies = sorted(hai_subject_demographics['study_accession'].unique(),key=sortSDY)\n",
    "#print(studies)\n",
    "races = sorted(hai_subject_demographics['race'].unique())\n",
    "#print(races)\n",
    "species = sorted(hai_subject_demographics['species'].unique());\n",
    "#print(species)\n",
    "genders = sorted(hai_subject_demographics['gender'].unique());\n",
    "#print(genders)\n",
    "min_age = hai_subject_demographics['min_subject_age'].min()\n",
    "max_age = hai_subject_demographics['min_subject_age'].max()\n",
    "#print(min_age, max_age)"
   ]
  },
  {
   "cell_type": "markdown",
   "metadata": {},
   "source": [
    "## Generate Widgets"
   ]
  },
  {
   "cell_type": "code",
   "execution_count": 5,
   "metadata": {},
   "outputs": [],
   "source": [
    "age_slider = widgets.FloatRangeSlider(\n",
    "    value=[min_age, max_age], \n",
    "    min=min_age, \n",
    "    max=max_age, step=1, description=\"Age Range\",\n",
    "    layout={'height': '50px', 'width': '400px'})\n",
    "    #layout={'height': '50px', 'width': '400px', 'border': '1px solid black'})\n",
    "\n",
    "age_slider.style.handle_color = 'lightblue'\n",
    "\n",
    "study_dropdown = widgets.Dropdown(\n",
    "    options=studies,\n",
    "    value = studies[0],\n",
    "    description = \"Study: \",\n",
    "    layout={'height': '50px', 'width': '400px'})\n",
    "    #layout={'height': '50px', 'width': '400px', 'border': '1px solid black'})\n",
    "\n",
    "gender_select = widgets.SelectMultiple(\n",
    "    options=genders,\n",
    "    description = \"Gender: \",\n",
    "    layout={'height': '150px', 'width': '400px'})\n",
    "    #layout={'height': '150px', 'width': '400px', 'border': '1px solid black'})\n",
    "\n",
    "race_select = widgets.SelectMultiple(\n",
    "    options=races,\n",
    "    description = \"Race: \",\n",
    "    layout={'height': '150px', 'width': '400px'})\n",
    "    #layout={'height': '150px', 'width': '400px', 'border': '1px solid black'})"
   ]
  },
  {
   "cell_type": "markdown",
   "metadata": {},
   "source": [
    "## Methods to Generate Plots"
   ]
  },
  {
   "cell_type": "code",
   "execution_count": 69,
   "metadata": {},
   "outputs": [],
   "source": [
    "def filter_data(study_accession, gender, race, age_min, age_max):\n",
    "    data = hai_subject_demographics[hai_subject_demographics['study_accession']==study_accession]\n",
    "    data = data[data.min_subject_age.between(age_min, age_max)]\n",
    "    if len(gender) > 0:\n",
    "        data = data[data.gender.isin(gender)]\n",
    "    if len(race) > 0:\n",
    "        data = data[data.race.isin(race)]\n",
    "    return data"
   ]
  },
  {
   "cell_type": "code",
   "execution_count": 89,
   "metadata": {},
   "outputs": [],
   "source": [
    "def make_gender_bar_plot(data):\n",
    "    gender_data = data.groupby(by=\"gender\").count()['subject_accession']\n",
    "    plot_data = pd.DataFrame({'x': gender_data.index, 'y': gender_data.values})\n",
    "    base = alt.Chart(plot_data).properties(height=200, width=300, title=\"Gender\")\n",
    "    plot = base.mark_bar().encode(\n",
    "        alt.X('x', axis=alt.Axis(title='')),\n",
    "        alt.Y('y', axis=alt.Axis(title=\"Count\"))\n",
    "    )\n",
    "    return plot"
   ]
  },
  {
   "cell_type": "code",
   "execution_count": 96,
   "metadata": {},
   "outputs": [],
   "source": [
    "def make_race_bar_plot(data):\n",
    "    race_data = data.groupby(by=\"race\").count()['subject_accession']\n",
    "    plot_data = pd.DataFrame({'x': race_data.index, 'y': race_data.values})\n",
    "    base = alt.Chart(plot_data).properties(height=200, width=300, title=\"Race\")\n",
    "    plot = base.mark_bar().encode(\n",
    "        alt.X('x', axis=alt.Axis(title='')),\n",
    "        alt.Y('y', axis=alt.Axis(title=\"Count\"))\n",
    "    )\n",
    "    return plot"
   ]
  },
  {
   "cell_type": "markdown",
   "metadata": {},
   "source": [
    "## Method to Reset Plots"
   ]
  },
  {
   "cell_type": "code",
   "execution_count": 97,
   "metadata": {},
   "outputs": [],
   "source": [
    "def reset_widgets(event):\n",
    "    c1.clear_output()\n",
    "    c2.clear_output()\n",
    "    age_slider.value = [min_age, max_age]\n",
    "    gender_select.value = ()\n",
    "    race_select.value = ()\n",
    "    displayChart(None)"
   ]
  },
  {
   "cell_type": "markdown",
   "metadata": {},
   "source": [
    "## Layout Widgets"
   ]
  },
  {
   "cell_type": "code",
   "execution_count": 98,
   "metadata": {},
   "outputs": [],
   "source": [
    "row1 = widgets.HBox([study_dropdown, age_slider])\n",
    "row2 = widgets.HBox([gender_select, race_select])\n",
    "c1 = widgets.Output(layout={'height': '450px', 'width': '400px'})\n",
    "c2 = widgets.Output(layout={'height': '450px', 'width': '400px'})\n",
    "b1 = widgets.Button(description=\"Update Plots\", layout={'width': '400px'})\n",
    "b1.style.button_color='lightblue'\n",
    "b2 = widgets.Button(description=\"Reset Filters\", layout={'width': '400px'})\n",
    "b2.style.button_color='lightblue'\n",
    "row3 = widgets.HBox([b1, b2])\n",
    "row4 = widgets.HBox([c1, c2])\n",
    "v1 = widgets.VBox([row1, row2, row3],\n",
    "          layout={'margin': '10px 2px 2px 2px'})\n",
    "v2 = widgets.VBox([v1, row4], \n",
    "          layout={'border': '2px solid blue', 'margin': '2px 2px 2px 2px'})"
   ]
  },
  {
   "cell_type": "markdown",
   "metadata": {},
   "source": [
    "## Display the Chart\n",
    "\n",
    "In this method, selected values from the dropdown and slider widgets are used to filter the starting data using the \"make_plots\" method, then clears and redisplays the results."
   ]
  },
  {
   "cell_type": "code",
   "execution_count": 99,
   "metadata": {},
   "outputs": [],
   "source": [
    "def displayChart(event):\n",
    "    study_accession = study_dropdown.value\n",
    "    age_min = age_slider.value[0]\n",
    "    age_max = age_slider.value[1]\n",
    "    gender = list(gender_select.value)\n",
    "    race = list(race_select.value)\n",
    "    data = filter_data(study_accession, gender, race, age_min, age_max)\n",
    "    #(g1, g2) = make_plots(study_accession, gender, race, age_min, age_max)\n",
    "    g1 = make_gender_bar_plot(data)\n",
    "    g2 = make_race_bar_plot(data)\n",
    "    c1.clear_output()\n",
    "    with c1:\n",
    "        if isinstance(g1, str):\n",
    "            print(g1)\n",
    "        else:\n",
    "            g1.display()\n",
    "    c2.clear_output()\n",
    "    with c2:\n",
    "        if isinstance(g2, str):\n",
    "            print(g2)\n",
    "        else:\n",
    "            print(g2.display());"
   ]
  },
  {
   "cell_type": "code",
   "execution_count": 100,
   "metadata": {},
   "outputs": [],
   "source": [
    "b1.on_click(displayChart)\n",
    "b2.on_click(reset_widgets)"
   ]
  },
  {
   "cell_type": "code",
   "execution_count": 101,
   "metadata": {},
   "outputs": [
    {
     "data": {
      "application/vnd.jupyter.widget-view+json": {
       "model_id": "5cb39eb9ffa042b9b19bc7613c3ab1cb",
       "version_major": 2,
       "version_minor": 0
      },
      "text/plain": [
       "VBox(children=(VBox(children=(HBox(children=(Dropdown(description='Study: ', index=15, layout=Layout(height='5…"
      ]
     },
     "metadata": {},
     "output_type": "display_data"
    }
   ],
   "source": [
    "#reset_widgets(None)\n",
    "displayChart(None)\n",
    "v2"
   ]
  },
  {
   "cell_type": "code",
   "execution_count": null,
   "metadata": {},
   "outputs": [],
   "source": []
  },
  {
   "cell_type": "code",
   "execution_count": null,
   "metadata": {},
   "outputs": [],
   "source": []
  }
 ],
 "metadata": {
  "kernelspec": {
   "display_name": "Python 3",
   "language": "python",
   "name": "python3"
  },
  "language_info": {
   "codemirror_mode": {
    "name": "ipython",
    "version": 3
   },
   "file_extension": ".py",
   "mimetype": "text/x-python",
   "name": "python",
   "nbconvert_exporter": "python",
   "pygments_lexer": "ipython3",
   "version": "3.7.3"
  },
  "toc": {
   "base_numbering": 1,
   "nav_menu": {},
   "number_sections": true,
   "sideBar": true,
   "skip_h1_title": false,
   "title_cell": "Table of Contents",
   "title_sidebar": "Contents",
   "toc_cell": false,
   "toc_position": {},
   "toc_section_display": true,
   "toc_window_display": false
  }
 },
 "nbformat": 4,
 "nbformat_minor": 2
}
